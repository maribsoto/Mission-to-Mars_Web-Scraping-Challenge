{
 "cells": [
  {
   "cell_type": "markdown",
   "metadata": {},
   "source": [
    "# Mission to Mars\n",
    "\n",
    "    In the Web Scraping Homework, I was building a web application that scrapes various websites for data \n",
    "    related to the Mission to Mars and displays the information in a single HTML page "
   ]
  },
  {
   "cell_type": "markdown",
   "metadata": {},
   "source": [
    "## Step 1 - Scraping\n",
    "    - I used this notebook to complete all scraping and analysis tasks"
   ]
  },
  {
   "cell_type": "markdown",
   "metadata": {},
   "source": [
    "### Dependencies\n",
    "    These are the dependencies required to run this notebook"
   ]
  },
  {
   "cell_type": "code",
   "execution_count": 10,
   "metadata": {},
   "outputs": [],
   "source": [
    "import pandas as pd\n",
    "import numpy as np\n",
    "import time\n",
    "import requests\n",
    "\n",
    "from splinter import Browser\n",
    "from bs4 import BeautifulSoup\n",
    "from selenium import webdriver"
   ]
  },
  {
   "cell_type": "markdown",
   "metadata": {},
   "source": [
    "## NASA Mars News"
   ]
  },
  {
   "cell_type": "markdown",
   "metadata": {},
   "source": [
    "    - Scraping the NASA Mars News Site and collecting the latest News Title and Paragraph Text. \n",
    "    - Assign the text to variables, so they can be referenced later."
   ]
  },
  {
   "cell_type": "markdown",
   "metadata": {},
   "source": [
    "#### Locating and activating Chromedriver and its executable path"
   ]
  },
  {
   "cell_type": "code",
   "execution_count": 2,
   "metadata": {},
   "outputs": [
    {
     "name": "stdout",
     "output_type": "stream",
     "text": [
      "/c/Users/marib/OneDrive/Documents/Data Analytics/Programs/chromedriver\n"
     ]
    }
   ],
   "source": [
    "!which chromedriver"
   ]
  },
  {
   "cell_type": "code",
   "execution_count": 3,
   "metadata": {},
   "outputs": [],
   "source": [
    "executable_path = {'executable_path':'/c/Users/marib/OneDrive/Documents/Data Analytics/Programs/chromedriver'}"
   ]
  },
  {
   "cell_type": "code",
   "execution_count": 4,
   "metadata": {},
   "outputs": [],
   "source": [
    "browser = Browser('chrome', headless=False)"
   ]
  },
  {
   "cell_type": "markdown",
   "metadata": {},
   "source": [
    "    - Defining the browser, url and html"
   ]
  },
  {
   "cell_type": "code",
   "execution_count": 5,
   "metadata": {},
   "outputs": [],
   "source": [
    "url = 'https://mars.nasa.gov/news/'\n",
    "browser.visit(url)"
   ]
  },
  {
   "cell_type": "markdown",
   "metadata": {},
   "source": [
    "#### Finding the latest title and paragraph text"
   ]
  },
  {
   "cell_type": "code",
   "execution_count": 6,
   "metadata": {
    "scrolled": true
   },
   "outputs": [
    {
     "name": "stdout",
     "output_type": "stream",
     "text": [
      "NASA's Perseverance Rover Will Look at Mars Through These 'Eyes'\n"
     ]
    }
   ],
   "source": [
    "html = browser.html\n",
    "news_soup = BeautifulSoup(html, 'html.parser')\n",
    "\n",
    "#Finding the location @html of latest title\n",
    "news_title = news_soup.find('div', class_='bottom_gradient').find('h3').text\n",
    "#print('\\n')\n",
    "print(latest_title)"
   ]
  },
  {
   "cell_type": "code",
   "execution_count": 7,
   "metadata": {},
   "outputs": [
    {
     "name": "stdout",
     "output_type": "stream",
     "text": [
      "A pair of zoomable cameras will help scientists and rover drivers with high-resolution color images.\n"
     ]
    }
   ],
   "source": [
    "#Finding the location @html of latest paragraph\n",
    "news_p = soup.find('div', class_ = 'article_teaser_body')\n",
    "\n",
    "browser.quit()\n",
    "print(latest_text.text)"
   ]
  },
  {
   "cell_type": "markdown",
   "metadata": {},
   "source": [
    "### JPL Mars Space Images\n",
    "\n",
    "    Visiting the url for JPL Featured Space Image, navigating the site and finding the full size image url for the current Featured Mars Image and assigning the url string to a variable -featured_image_url.\n",
    "\n",
    "#### Note: Please bear in mind that all cells were originally ran on Apr 29, 2020. It seems one process did not run correctly @ JPL exercise. So, I reran the nb on May 1st. "
   ]
  },
  {
   "cell_type": "markdown",
   "metadata": {},
   "source": [
    "    Activating chromedriver, browser and visiting the url"
   ]
  },
  {
   "cell_type": "code",
   "execution_count": 8,
   "metadata": {},
   "outputs": [],
   "source": [
    "executable_path = {'executable_path':'/c/Users/marib/OneDrive/Documents/Data Analytics/Programs/chromedriver'}\n",
    "browser = Browser('chrome', headless=False)\n",
    "url = \"https://www.jpl.nasa.gov/spaceimages/\"\n",
    "browser.visit(url)\n",
    "time.sleep(1)"
   ]
  },
  {
   "cell_type": "code",
   "execution_count": 9,
   "metadata": {},
   "outputs": [],
   "source": [
    "full_image = browser.find_by_id('full_image')\n",
    "\n",
    "full_image.click()"
   ]
  },
  {
   "cell_type": "code",
   "execution_count": 10,
   "metadata": {},
   "outputs": [],
   "source": [
    "more_info = browser.links.find_by_partial_text('more info', wait_time=1)\n",
    "\n",
    "more_info.click()"
   ]
  },
  {
   "cell_type": "code",
   "execution_count": 11,
   "metadata": {},
   "outputs": [],
   "source": [
    "html = browser.html\n",
    "img_soup = BeautifulSoup(html, 'html.parser')"
   ]
  },
  {
   "cell_type": "code",
   "execution_count": 12,
   "metadata": {},
   "outputs": [
    {
     "name": "stdout",
     "output_type": "stream",
     "text": [
      "https://www.jpl.nasa.gov/spaceimages//spaceimages/images/largesize/PIA20464_hires.jpg\n"
     ]
    }
   ],
   "source": [
    "img_url_rel = img_soup.select_one('figure.lede a img').get('src')\n",
    "featured_image_url = url + image\n",
    "\n",
    "browser.quit()\n",
    "print(featured_image_url)"
   ]
  },
  {
   "cell_type": "markdown",
   "metadata": {},
   "source": [
    "## Mars Weather"
   ]
  },
  {
   "cell_type": "code",
   "execution_count": 13,
   "metadata": {},
   "outputs": [],
   "source": [
    "executable_path = {'executable_path':'/c/Users/marib/OneDrive/Documents/Data Analytics/Programs/chromedriver'}\n",
    "browser = Browser('chrome', headless=False)\n",
    "url = \"https://twitter.com/marswxreport?lang=en\"\n",
    "browser.visit(url)\n",
    "time.sleep(1)"
   ]
  },
  {
   "cell_type": "code",
   "execution_count": 14,
   "metadata": {},
   "outputs": [],
   "source": [
    "html = browser.html\n",
    "soup = BeautifulSoup(html, 'html.parser')"
   ]
  },
  {
   "cell_type": "code",
   "execution_count": 15,
   "metadata": {
    "scrolled": false
   },
   "outputs": [
    {
     "name": "stdout",
     "output_type": "stream",
     "text": [
      "InSight sol 507 (2020-04-30) low -92.1ºC (-133.7ºF) high -2.4ºC (27.7ºF)\n",
      "winds from the SW at 5.0 m/s (11.1 mph) gusting to 18.2 m/s (40.6 mph)\n",
      "pressure at 6.80 hPa\n"
     ]
    }
   ],
   "source": [
    "x_path = \"/html/body/div/div/div/div[2]/main/div/div/div/div[1]/div/div/div/div/div[2]/section/div/div/div[1]/div/div/div/div/article/div/div[2]/div[2]/div[2]/div[1]/div/span\"\n",
    "\n",
    "if browser.is_element_present_by_xpath(x_path, wait_time = 5):\n",
    "    twit = browser.find_by_xpath(x_path).text\n",
    "    \n",
    "browser.quit()\n",
    "\n",
    "print(twit)"
   ]
  },
  {
   "cell_type": "markdown",
   "metadata": {},
   "source": [
    "## Mars Facts"
   ]
  },
  {
   "cell_type": "code",
   "execution_count": 16,
   "metadata": {},
   "outputs": [
    {
     "data": {
      "text/html": [
       "<div>\n",
       "<style scoped>\n",
       "    .dataframe tbody tr th:only-of-type {\n",
       "        vertical-align: middle;\n",
       "    }\n",
       "\n",
       "    .dataframe tbody tr th {\n",
       "        vertical-align: top;\n",
       "    }\n",
       "\n",
       "    .dataframe thead th {\n",
       "        text-align: right;\n",
       "    }\n",
       "</style>\n",
       "<table border=\"1\" class=\"dataframe\">\n",
       "  <thead>\n",
       "    <tr style=\"text-align: right;\">\n",
       "      <th></th>\n",
       "      <th>0</th>\n",
       "      <th>1</th>\n",
       "    </tr>\n",
       "  </thead>\n",
       "  <tbody>\n",
       "    <tr>\n",
       "      <td>0</td>\n",
       "      <td>Equatorial Diameter:</td>\n",
       "      <td>6,792 km</td>\n",
       "    </tr>\n",
       "    <tr>\n",
       "      <td>1</td>\n",
       "      <td>Polar Diameter:</td>\n",
       "      <td>6,752 km</td>\n",
       "    </tr>\n",
       "    <tr>\n",
       "      <td>2</td>\n",
       "      <td>Mass:</td>\n",
       "      <td>6.39 × 10^23 kg (0.11 Earths)</td>\n",
       "    </tr>\n",
       "    <tr>\n",
       "      <td>3</td>\n",
       "      <td>Moons:</td>\n",
       "      <td>2 (Phobos &amp; Deimos)</td>\n",
       "    </tr>\n",
       "    <tr>\n",
       "      <td>4</td>\n",
       "      <td>Orbit Distance:</td>\n",
       "      <td>227,943,824 km (1.38 AU)</td>\n",
       "    </tr>\n",
       "    <tr>\n",
       "      <td>5</td>\n",
       "      <td>Orbit Period:</td>\n",
       "      <td>687 days (1.9 years)</td>\n",
       "    </tr>\n",
       "    <tr>\n",
       "      <td>6</td>\n",
       "      <td>Surface Temperature:</td>\n",
       "      <td>-87 to -5 °C</td>\n",
       "    </tr>\n",
       "    <tr>\n",
       "      <td>7</td>\n",
       "      <td>First Record:</td>\n",
       "      <td>2nd millennium BC</td>\n",
       "    </tr>\n",
       "    <tr>\n",
       "      <td>8</td>\n",
       "      <td>Recorded By:</td>\n",
       "      <td>Egyptian astronomers</td>\n",
       "    </tr>\n",
       "  </tbody>\n",
       "</table>\n",
       "</div>"
      ],
      "text/plain": [
       "                      0                              1\n",
       "0  Equatorial Diameter:                       6,792 km\n",
       "1       Polar Diameter:                       6,752 km\n",
       "2                 Mass:  6.39 × 10^23 kg (0.11 Earths)\n",
       "3                Moons:            2 (Phobos & Deimos)\n",
       "4       Orbit Distance:       227,943,824 km (1.38 AU)\n",
       "5         Orbit Period:           687 days (1.9 years)\n",
       "6  Surface Temperature:                   -87 to -5 °C\n",
       "7         First Record:              2nd millennium BC\n",
       "8          Recorded By:           Egyptian astronomers"
      ]
     },
     "execution_count": 16,
     "metadata": {},
     "output_type": "execute_result"
    }
   ],
   "source": [
    "url = 'https://space-facts.com/mars/'\n",
    "mars = pd.read_html(url)[0]\n",
    "mars"
   ]
  },
  {
   "cell_type": "code",
   "execution_count": 17,
   "metadata": {
    "scrolled": true
   },
   "outputs": [
    {
     "data": {
      "text/html": [
       "<div>\n",
       "<style scoped>\n",
       "    .dataframe tbody tr th:only-of-type {\n",
       "        vertical-align: middle;\n",
       "    }\n",
       "\n",
       "    .dataframe tbody tr th {\n",
       "        vertical-align: top;\n",
       "    }\n",
       "\n",
       "    .dataframe thead th {\n",
       "        text-align: right;\n",
       "    }\n",
       "</style>\n",
       "<table border=\"1\" class=\"dataframe\">\n",
       "  <thead>\n",
       "    <tr style=\"text-align: right;\">\n",
       "      <th></th>\n",
       "      <th>Parameters</th>\n",
       "      <th>Values</th>\n",
       "    </tr>\n",
       "  </thead>\n",
       "  <tbody>\n",
       "    <tr>\n",
       "      <td>0</td>\n",
       "      <td>Equatorial Diameter:</td>\n",
       "      <td>6,792 km</td>\n",
       "    </tr>\n",
       "    <tr>\n",
       "      <td>1</td>\n",
       "      <td>Polar Diameter:</td>\n",
       "      <td>6,752 km</td>\n",
       "    </tr>\n",
       "    <tr>\n",
       "      <td>2</td>\n",
       "      <td>Mass:</td>\n",
       "      <td>6.39 × 10^23 kg (0.11 Earths)</td>\n",
       "    </tr>\n",
       "    <tr>\n",
       "      <td>3</td>\n",
       "      <td>Moons:</td>\n",
       "      <td>2 (Phobos &amp; Deimos)</td>\n",
       "    </tr>\n",
       "    <tr>\n",
       "      <td>4</td>\n",
       "      <td>Orbit Distance:</td>\n",
       "      <td>227,943,824 km (1.38 AU)</td>\n",
       "    </tr>\n",
       "    <tr>\n",
       "      <td>5</td>\n",
       "      <td>Orbit Period:</td>\n",
       "      <td>687 days (1.9 years)</td>\n",
       "    </tr>\n",
       "    <tr>\n",
       "      <td>6</td>\n",
       "      <td>Surface Temperature:</td>\n",
       "      <td>-87 to -5 °C</td>\n",
       "    </tr>\n",
       "    <tr>\n",
       "      <td>7</td>\n",
       "      <td>First Record:</td>\n",
       "      <td>2nd millennium BC</td>\n",
       "    </tr>\n",
       "    <tr>\n",
       "      <td>8</td>\n",
       "      <td>Recorded By:</td>\n",
       "      <td>Egyptian astronomers</td>\n",
       "    </tr>\n",
       "  </tbody>\n",
       "</table>\n",
       "</div>"
      ],
      "text/plain": [
       "             Parameters                         Values\n",
       "0  Equatorial Diameter:                       6,792 km\n",
       "1       Polar Diameter:                       6,752 km\n",
       "2                 Mass:  6.39 × 10^23 kg (0.11 Earths)\n",
       "3                Moons:            2 (Phobos & Deimos)\n",
       "4       Orbit Distance:       227,943,824 km (1.38 AU)\n",
       "5         Orbit Period:           687 days (1.9 years)\n",
       "6  Surface Temperature:                   -87 to -5 °C\n",
       "7         First Record:              2nd millennium BC\n",
       "8          Recorded By:           Egyptian astronomers"
      ]
     },
     "execution_count": 17,
     "metadata": {},
     "output_type": "execute_result"
    }
   ],
   "source": [
    "mars_facts = pd.DataFrame(mars)\n",
    "mars_facts.columns = mars_facts.columns.astype(str)\n",
    "mars_facts.columns = ['Parameters', 'Values']\n",
    "mars_facts"
   ]
  },
  {
   "cell_type": "code",
   "execution_count": 18,
   "metadata": {},
   "outputs": [
    {
     "name": "stdout",
     "output_type": "stream",
     "text": [
      "<table border=\"1\" class=\"dataframe\">\n",
      "  <tbody>\n",
      "    <tr>\n",
      "      <td>Equatorial Diameter:</td>\n",
      "      <td>6,792 km</td>\n",
      "    </tr>\n",
      "    <tr>\n",
      "      <td>Polar Diameter:</td>\n",
      "      <td>6,752 km</td>\n",
      "    </tr>\n",
      "    <tr>\n",
      "      <td>Mass:</td>\n",
      "      <td>6.39 × 10^23 kg (0.11 Earths)</td>\n",
      "    </tr>\n",
      "    <tr>\n",
      "      <td>Moons:</td>\n",
      "      <td>2 (Phobos &amp; Deimos)</td>\n",
      "    </tr>\n",
      "    <tr>\n",
      "      <td>Orbit Distance:</td>\n",
      "      <td>227,943,824 km (1.38 AU)</td>\n",
      "    </tr>\n",
      "    <tr>\n",
      "      <td>Orbit Period:</td>\n",
      "      <td>687 days (1.9 years)</td>\n",
      "    </tr>\n",
      "    <tr>\n",
      "      <td>Surface Temperature:</td>\n",
      "      <td>-87 to -5 °C</td>\n",
      "    </tr>\n",
      "    <tr>\n",
      "      <td>First Record:</td>\n",
      "      <td>2nd millennium BC</td>\n",
      "    </tr>\n",
      "    <tr>\n",
      "      <td>Recorded By:</td>\n",
      "      <td>Egyptian astronomers</td>\n",
      "    </tr>\n",
      "  </tbody>\n",
      "</table>\n"
     ]
    }
   ],
   "source": [
    "mars_html = mars_facts.to_html(header=False, index=False)\n",
    "print(mars_html)"
   ]
  },
  {
   "cell_type": "markdown",
   "metadata": {},
   "source": [
    "## Mars Hemispheres"
   ]
  },
  {
   "cell_type": "code",
   "execution_count": 11,
   "metadata": {},
   "outputs": [],
   "source": [
    "executable_path = {'executable_path':'/c/Users/marib/OneDrive/Documents/Data Analytics/Programs/chromedriver'}\n",
    "browser = Browser('chrome', headless=False)\n",
    "url = \"https://astrogeology.usgs.gov/search/results?q=hemisphere+enhanced&k1=target&v1=Mars\"\n",
    "browser.visit(url)\n",
    "base_url = \"https://astrogeology.usgs.gov/\"\n",
    "time.sleep(1)"
   ]
  },
  {
   "cell_type": "code",
   "execution_count": 12,
   "metadata": {},
   "outputs": [],
   "source": [
    "html = browser.html\n",
    "hem_soup = BeautifulSoup(html, 'html.parser')"
   ]
  },
  {
   "cell_type": "markdown",
   "metadata": {},
   "source": [
    "    Defining my lists:"
   ]
  },
  {
   "cell_type": "code",
   "execution_count": 13,
   "metadata": {},
   "outputs": [],
   "source": [
    "hemisphere_image_urls  = [] # final list\n",
    "\n",
    "title = [] # where I save the hemisphere titles\n",
    "img_url = [] # where I save the full image urls"
   ]
  },
  {
   "cell_type": "markdown",
   "metadata": {},
   "source": [
    "    Extracting the Hemisphere titles:"
   ]
  },
  {
   "cell_type": "code",
   "execution_count": 14,
   "metadata": {},
   "outputs": [
    {
     "name": "stdout",
     "output_type": "stream",
     "text": [
      "<html lang=\"en\">\n",
      " <head>\n",
      "  <link href=\"//ajax.googleapis.com/ajax/libs/jqueryui/1.11.3/themes/smoothness/jquery-ui.css\" rel=\"stylesheet\" type=\"text/css\"/>\n",
      "  <title>\n",
      "   Astropedia Search Results | USGS Astrogeology Science Center\n",
      "  </title>\n",
      "  <meta content=\"USGS Astrogeology Science Center Astropedia search results.\" name=\"description\"/>\n",
      "  <meta content=\"USGS,Astrogeology Science Center,Cartography,Geology,Space,Geological Survey,Mapping\" name=\"keywords\"/>\n",
      "  <meta content=\"IE=edge\" http-equiv=\"X-UA-Compatible\"/>\n",
      "  <meta content=\"text/html; charset=utf-8\" http-equiv=\"Content-Type\"/>\n",
      "  <meta content=\"width=device-width, initial-scale=1, maximum-scale=1\" name=\"viewport\"/>\n",
      "  <meta content=\"x61hXXVj7wtfBSNOPnTftajMsZ5yB2W-qRoyr7GtOKM\" name=\"google-site-verification\"/>\n",
      "  <!--<link rel=\"stylesheet\" href=\"http://fonts.googleapis.com/css?family=Open+Sans:400italic,400,bold\"/>-->\n",
      "  <link href=\"/css/main.css\" media=\"screen\" rel=\"stylesheet\"/>\n",
      "  <link href=\"/css/print.css\" media=\"print\" rel=\"stylesheet\"/>\n",
      "  <!--[if lt IE 9]>\n",
      "\t\t\t<script src=\"http://html5shiv.googlecode.com/svn/trunk/html5.js\"></script>\n",
      "\t\t\t<script src=\"/js/respond.min.js\"></script>\n",
      "\t\t\t<link rel=\"stylesheet\" type=\"text/css\" href=\"/css/ie.css\"/>\n",
      "                        <script>\n",
      "                          document.createElement('header');\n",
      "                          document.createElement('nav');\n",
      "                          document.createElement('section');\n",
      "                          document.createElement('article');\n",
      "                          document.createElement('aside');\n",
      "                          document.createElement('footer');\n",
      "                          document.createElement('hgroup');\n",
      "                        </script>\n",
      "                  <![endif]-->\n",
      "  <link href=\"/favicon.ico\" rel=\"icon\" type=\"image/x-ico\"/>\n",
      " </head>\n",
      " <body id=\"results\">\n",
      "  <header>\n",
      "   <!--\n",
      "\t\t\t<h1>Astrogeology Science Center</h1>\n",
      "-->\n",
      "   <a href=\"https://www.usgs.gov/centers/astrogeo-sc\" style=\"float:right;margin-top:10px;\" target=\"_blank\">\n",
      "    <img alt=\"USGS: Science for a Changing World\" class=\"logo\" height=\"60\" src=\"/images/usgs_logo_main_2x.png\"/>\n",
      "   </a>\n",
      "   <a href=\"https://nasa.gov\" style=\"float:right;margin-top:5px;margin-right:20px;\" target=\"_blank\">\n",
      "    <img alt=\"NASA\" class=\"logo\" height=\"65\" src=\"/images/logos/nasa-logo-web-med.png\"/>\n",
      "   </a>\n",
      "   <a href=\"https://www.usgs.gov/centers/astrogeology-science-center/science/pds-cartography-and-imaging-sciences-node-usgs\" style=\"float:right;margin-top:5px;margin-right: 10px;\" target=\"_blank\">\n",
      "    <img alt=\"PDS Cartography and Imaging Science Node\" class=\"logo\" height=\"65\" src=\"/images/pds_logo-invisible-web.png\"/>\n",
      "   </a>\n",
      "  </header>\n",
      "  <div class=\"wrapper\">\n",
      "   <!--\n",
      "\t\t\t<nav>\n",
      "\t\t\t\t<a id=\"nav-toggle\" href=\"#\" title=\"Navigation Menu\">Menu</a>\n",
      "<ul class=\"dropdown dropdown-horizontal\" id=\"yw0\">\n",
      "<li><a href=\"/\">Home</a></li>\n",
      "<li><a href=\"/about\">About</a>\n",
      "<ul>\n",
      "<li><a href=\"/about/careers\">Careers</a></li>\n",
      "<li><a href=\"/contact\">Contact</a></li>\n",
      "<li><a href=\"/about/events\">Events</a></li>\n",
      "<li><a href=\"/site/glossary\">Glossary</a></li>\n",
      "<li><a href=\"/about/mission\">Mission</a></li>\n",
      "<li><a href=\"/news\">News</a></li>\n",
      "<li><a href=\"/people\">People</a></li>\n",
      "<li><a href=\"/about/using-our-images\">Using Our Images</a></li>\n",
      "<li><a href=\"/about/visitors\">Visitors</a></li>\n",
      "</ul>\n",
      "</li>\n",
      "<li><a href=\"/facilities\">Labs / Facilities</a>\n",
      "<ul>\n",
      "<li><a href=\"/facilities/flynn-creek-crater-sample-collection\">Flynn Creek Crater Sample Collection</a></li>\n",
      "<li><a href=\"http://www.moon-cal.org\">Lunar Calibration Project</a></li>\n",
      "<li><a href=\"/facilities/meteor-crater-sample-collection\">Meteor Crater Sample Collection</a></li>\n",
      "<li><a href=\"/facilities/mrctr\">MRCTR GIS Lab</a></li>\n",
      "<li><a href=\"/facilities/cartography-and-imaging-sciences-node-of-nasa-planetary-data-system\">PDS Cartography and Imaging Sciences Node</a></li>\n",
      "<li><a href=\"/pds/annex\">PDS IMG Annex</a></li>\n",
      "<li><a href=\"/facilities/photogrammetry-guest-facility\">Photogrammetry Guest Facility</a></li>\n",
      "<li><a href=\"/rpif\">Regional Planetary Information Facility (RPIF)</a></li>\n",
      "</ul>\n",
      "</li>\n",
      "<li><a href=\"/maps\">Maps / Products</a>\n",
      "<ul>\n",
      "<li><a href=\"/search\">Product Search</a></li>\n",
      "<li><a href=\"http://planetarynames.wr.usgs.gov\">Gazetteer of Planetary Nomenclature</a></li>\n",
      "<li><a href=\"http://planetarymapping.wr.usgs.gov\">Geologic Mapping Program</a></li>\n",
      "<li><a href=\"http://pilot.wr.usgs.gov\">Planetary Image Locator Tool (PILOT)</a></li>\n",
      "<li><a href=\"/search/planetary-index\">Planetary Map Index</a></li>\n",
      "</ul>\n",
      "</li>\n",
      "<li><a href=\"/geology\">Missions / Research</a>\n",
      "<ul>\n",
      "<li><a href=\"/geology/mars-dunes\">Mars Dunes</a></li>\n",
      "<li><a href=\"/geology/mars-ice\">Mars Ice</a></li>\n",
      "<li><a href=\"/missions\">Mission Support</a></li>\n",
      "<li><a href=\"/solar-system\">Solar System</a></li>\n",
      "<li><a href=\"/groups\">Working Groups</a></li>\n",
      "</ul>\n",
      "</li>\n",
      "<li><a href=\"/tools\">Tools</a>\n",
      "<ul>\n",
      "<li><a href=\"http://planetarynames.wr.usgs.gov\">Gazetteer of Planetary Nomenclature</a></li>\n",
      "<li><a href=\"http://isis.astrogeology.usgs.gov\">Integrated Software for Imagers and Spectrometers (ISIS)</a></li>\n",
      "<li><a href=\"http://astrogeology.usgs.gov/tools/map-a-planet-2\">Map a Planet 2</a></li>\n",
      "<li><a href=\"http://pilot.wr.usgs.gov\">Planetary Image Locator Tool (PILOT)</a></li>\n",
      "<li><a href=\"http://astrocloud.wr.usgs.gov/\">Projection on the Web (POW)</a></li>\n",
      "</ul>\n",
      "</li>\n",
      "</ul>\t\t\t\t<form id=\"search\" class=\"search\" action=\"/search/results\" method=\"get\">\n",
      "\t\t\t\t\t<input type=\"submit\" value=\"\" title=\"Search Astropedia\"/>\n",
      "\t\t\t\t\t<input type=\"text\" placeholder=\"Search\" name=\"q\"/>\n",
      "\t\t\t\t</form>\n",
      "\t\t\t</nav>\n",
      "-->\n",
      "   <div class=\"container\">\n",
      "    <div class=\"widget block bar\">\n",
      "     <a href=\"/search\" style=\"float:right;text-decoration:none;\">\n",
      "      <img alt=\"Astropedia\" src=\"/images/astropedia/astropedia-logo-main.png\" style=\"width:200px;border:none;float:right;\"/>\n",
      "      <div style=\"clear:both;font-size:.8em;float:right;color:#888;\">\n",
      "       Lunar and Planetary Cartographic Catalog\n",
      "      </div>\n",
      "     </a>\n",
      "     <div style=\"float:left;height:60px;\">\n",
      "     </div>\n",
      "    </div>\n",
      "    <form action=\"/search/results\" class=\"bar widget block\" id=\"search-bar\">\n",
      "     <input name=\"q\" type=\"hidden\" value=\"hemisphere-enhanced\"/>\n",
      "     <input name=\"target\" type=\"hidden\" value=\"Mars\"/>\n",
      "     <input name=\"__ncforminfo\" type=\"hidden\" value=\"sS0WaOg2CarXUw0FrW99mbVfQYPWQi0KECRAPB0LC3JCRC3zvpifGuEWwN6-O7qLkXjNsMosmmiM1UJWBg2yXXOeYoDfq3GLPIdqkVqFt9M5vmkw-jyobg==\"/>\n",
      "    </form>\n",
      "    <div class=\"full-content\">\n",
      "     <section class=\"block\" id=\"results-accordian\">\n",
      "      <div class=\"result-list\" data-section=\"product\" id=\"product-section\">\n",
      "       <div class=\"accordian\">\n",
      "        <h2>\n",
      "         Products\n",
      "        </h2>\n",
      "        <span class=\"count\">\n",
      "         4 Results\n",
      "        </span>\n",
      "        <span class=\"collapse\">\n",
      "         Collapse\n",
      "        </span>\n",
      "       </div>\n",
      "       <div class=\"collapsible results\">\n",
      "        <div class=\"item\">\n",
      "         <a class=\"itemLink product-item\" href=\"/search/map/Mars/Viking/cerberus_enhanced\">\n",
      "          <img alt=\"Cerberus Hemisphere Enhanced thumbnail\" class=\"thumb\" src=\"/cache/images/dfaf3849e74bf973b59eb50dab52b583_cerberus_enhanced.tif_thumb.png\"/>\n",
      "         </a>\n",
      "         <div class=\"description\">\n",
      "          <a class=\"itemLink product-item\" href=\"/search/map/Mars/Viking/cerberus_enhanced\">\n",
      "           <h3>\n",
      "            Cerberus Hemisphere Enhanced\n",
      "           </h3>\n",
      "          </a>\n",
      "          <span class=\"subtitle\" style=\"float:left\">\n",
      "           image/tiff 21 MB\n",
      "          </span>\n",
      "          <span class=\"pubDate\" style=\"float:right\">\n",
      "          </span>\n",
      "          <br/>\n",
      "          <p>\n",
      "           Mosaic of the Cerberus hemisphere of Mars projected into point perspective, a view similar to that which one would see from a spacecraft. This mosaic is composed of 104 Viking Orbiter images acquired…\n",
      "          </p>\n",
      "         </div>\n",
      "         <!-- end description -->\n",
      "        </div>\n",
      "        <div class=\"item\">\n",
      "         <a class=\"itemLink product-item\" href=\"/search/map/Mars/Viking/schiaparelli_enhanced\">\n",
      "          <img alt=\"Schiaparelli Hemisphere Enhanced thumbnail\" class=\"thumb\" src=\"/cache/images/7677c0a006b83871b5a2f66985ab5857_schiaparelli_enhanced.tif_thumb.png\"/>\n",
      "         </a>\n",
      "         <div class=\"description\">\n",
      "          <a class=\"itemLink product-item\" href=\"/search/map/Mars/Viking/schiaparelli_enhanced\">\n",
      "           <h3>\n",
      "            Schiaparelli Hemisphere Enhanced\n",
      "           </h3>\n",
      "          </a>\n",
      "          <span class=\"subtitle\" style=\"float:left\">\n",
      "           image/tiff 35 MB\n",
      "          </span>\n",
      "          <span class=\"pubDate\" style=\"float:right\">\n",
      "          </span>\n",
      "          <br/>\n",
      "          <p>\n",
      "           Mosaic of the Schiaparelli hemisphere of Mars projected into point perspective, a view similar to that which one would see from a spacecraft. The images were acquired in 1980 during early northern…\n",
      "          </p>\n",
      "         </div>\n",
      "         <!-- end description -->\n",
      "        </div>\n",
      "        <div class=\"item\">\n",
      "         <a class=\"itemLink product-item\" href=\"/search/map/Mars/Viking/syrtis_major_enhanced\">\n",
      "          <img alt=\"Syrtis Major Hemisphere Enhanced thumbnail\" class=\"thumb\" src=\"/cache/images/aae41197e40d6d4f3ea557f8cfe51d15_syrtis_major_enhanced.tif_thumb.png\"/>\n",
      "         </a>\n",
      "         <div class=\"description\">\n",
      "          <a class=\"itemLink product-item\" href=\"/search/map/Mars/Viking/syrtis_major_enhanced\">\n",
      "           <h3>\n",
      "            Syrtis Major Hemisphere Enhanced\n",
      "           </h3>\n",
      "          </a>\n",
      "          <span class=\"subtitle\" style=\"float:left\">\n",
      "           image/tiff 25 MB\n",
      "          </span>\n",
      "          <span class=\"pubDate\" style=\"float:right\">\n",
      "          </span>\n",
      "          <br/>\n",
      "          <p>\n",
      "           Mosaic of the Syrtis Major hemisphere of Mars projected into point perspective, a view similar to that which one would see from a spacecraft. This mosaic is composed of about 100 red and violet…\n",
      "          </p>\n",
      "         </div>\n",
      "         <!-- end description -->\n",
      "        </div>\n",
      "        <div class=\"item\">\n",
      "         <a class=\"itemLink product-item\" href=\"/search/map/Mars/Viking/valles_marineris_enhanced\">\n",
      "          <img alt=\"Valles Marineris Hemisphere Enhanced thumbnail\" class=\"thumb\" src=\"/cache/images/04085d99ec3713883a9a57f42be9c725_valles_marineris_enhanced.tif_thumb.png\"/>\n",
      "         </a>\n",
      "         <div class=\"description\">\n",
      "          <a class=\"itemLink product-item\" href=\"/search/map/Mars/Viking/valles_marineris_enhanced\">\n",
      "           <h3>\n",
      "            Valles Marineris Hemisphere Enhanced\n",
      "           </h3>\n",
      "          </a>\n",
      "          <span class=\"subtitle\" style=\"float:left\">\n",
      "           image/tiff 27 MB\n",
      "          </span>\n",
      "          <span class=\"pubDate\" style=\"float:right\">\n",
      "          </span>\n",
      "          <br/>\n",
      "          <p>\n",
      "           Mosaic of the Valles Marineris hemisphere of Mars projected into point perspective, a view similar to that which one would see from a spacecraft. The distance is 2500 kilometers from the surface of…\n",
      "          </p>\n",
      "         </div>\n",
      "         <!-- end description -->\n",
      "        </div>\n",
      "        <script>\n",
      "         addBases=[];;if(typeof resetLayerSwitcher===\"function\"){resetLayerSwitcher(false)};var productTotal = 4;\n",
      "        </script>\n",
      "       </div>\n",
      "       <!-- end this-section -->\n",
      "      </div>\n",
      "     </section>\n",
      "    </div>\n",
      "   </div>\n",
      "   <div class=\"icons projects black scroll-wrapper\">\n",
      "    <div class=\"scroll\">\n",
      "     <a class=\"icon\" href=\"http://isis.astrogeology.usgs.gov\" title=\"Integrated Software for Imagers and Spectrometers\">\n",
      "      <img alt=\"ISIS Logo\" height=\"112\" src=\"/images/logos/isis_2x.jpg\" width=\"112\"/>\n",
      "      <span class=\"label\">\n",
      "       ISIS\n",
      "      </span>\n",
      "     </a>\n",
      "     <a class=\"icon\" href=\"http://planetarynames.wr.usgs.gov\" title=\"Gazetteer of Planetary Nomenclature\">\n",
      "      <img alt=\"Nomenclature Logo\" height=\"112\" src=\"/images/logos/nomenclature_2x.jpg\" width=\"112\"/>\n",
      "      <span class=\"label\">\n",
      "       Planetary Nomenclature\n",
      "      </span>\n",
      "     </a>\n",
      "     <a class=\"icon\" href=\"https://astrogeology.usgs.gov/tools/map-a-planet-2\" title=\"Map a Planet 2\">\n",
      "      <img alt=\"Map-a-Planet Logo\" height=\"112\" src=\"/images/logos/map_a_planet_2x.jpg\" width=\"112\"/>\n",
      "      <span class=\"label\">\n",
      "       Map a Planet 2\n",
      "      </span>\n",
      "     </a>\n",
      "     <a class=\"icon\" href=\"https://www.usgs.gov/centers/astrogeo-sc/science/cartography-and-imaging-sciences-node-nasa-planetary-data-system\" title=\"PDS Cartography and Imaging Science Node\">\n",
      "      <img alt=\"PDS Logo\" height=\"112\" src=\"/images/pds_logo-black-web.png\"/>\n",
      "      <span class=\"label\">\n",
      "       PDS Cartography and Imaging Science Node\n",
      "      </span>\n",
      "     </a>\n",
      "     <!--\n",
      "\t\t\t\t\t\t<a title=\"Astropedia Search\" href=\"/search\" class=\"icon\">\n",
      "\t\t\t\t\t\t\t<img alt=\"Astropedia Logo\" height=\"112\" width=\"112\" src=\"/images/logos/astropedia_2x.jpg\"/>\n",
      "\t\t\t\t\t\t\t<span class=\"label\">Astropedia</span>\n",
      "\t\t\t\t\t\t</a>\n",
      "-->\n",
      "     <a class=\"icon\" href=\"https://www.usgs.gov/centers/astrogeo-sc/science/regional-planetary-image-facility-rpif\" title=\"Regional Planetary Image Facility\">\n",
      "      <img alt=\"RPIF Logo\" height=\"112\" src=\"/images/logos/rpif_2x.jpg\" width=\"112\"/>\n",
      "      <span class=\"label\">\n",
      "       RPIF\n",
      "      </span>\n",
      "     </a>\n",
      "     <a class=\"icon\" href=\"\" title=\"Photogrammetry Guest Facility\">\n",
      "      <img alt=\"Photogrammetry Guest Faciltiy Logo\" height=\"112\" src=\"/images/logos/photogrammetry_2x.jpg\" width=\"112\"/>\n",
      "      <span class=\"label\">\n",
      "       Photogrammetry Guest Facility\n",
      "      </span>\n",
      "     </a>\n",
      "     <a class=\"icon\" href=\"http://pilot.wr.usgs.gov\" title=\"Planetary Image Locator Tool\">\n",
      "      <img alt=\"Pilot Logo\" height=\"112\" src=\"/images/logos/pilot_2x.jpg\" width=\"112\"/>\n",
      "      <span class=\"label\">\n",
      "       PILOT\n",
      "      </span>\n",
      "     </a>\n",
      "     <a class=\"icon\" href=\"https://www.usgs.gov/centers/astrogeo-sc/science/mrctr-gis-lab\" title=\"Mapping, Remote-sensing, Cartography, Technology and Research GIS Lab\">\n",
      "      <img alt=\"MRCTR GIS Lab Logo\" height=\"112\" src=\"/images/logos/mrctr_man_2x.png\" width=\"112\"/>\n",
      "      <span class=\"label\">\n",
      "       MRCTR GIS Lab\n",
      "      </span>\n",
      "     </a>\n",
      "    </div>\n",
      "   </div>\n",
      "   <footer>\n",
      "    <div class=\"left\">\n",
      "     <a href=\"http://astrogeology.usgs.gov/search\">\n",
      "      Search\n",
      "     </a>\n",
      "     |\n",
      "     <a href=\"http://astrogeology.usgs.gov/maps/about\">\n",
      "      About\n",
      "     </a>\n",
      "     |\n",
      "     <a href=\"http://astrogeology.usgs.gov/maps/contact\">\n",
      "      Contact\n",
      "     </a>\n",
      "    </div>\n",
      "    <div class=\"right\">\n",
      "     <a href=\"https://www.usgs.gov/centers/astrogeo-sc\">\n",
      "      USGS Astrogeology Science Center\n",
      "     </a>\n",
      "    </div>\n",
      "   </footer>\n",
      "  </div>\n",
      "  <!--\n",
      "\t\t<div class=\"credit\">\n",
      "\t\t\t<small>Background Credits: NASA/USGS</small>\n",
      "\t\t</div>\n",
      "-->\n",
      "  <div class=\"page-background\" style=\"\n",
      "\t\t\tbackground:url('/images/backgrounds/mars.jpg');\n",
      "\t\t\tfilter:progid:DXImageTransform.Microsoft.AlphaImageLoader(\n",
      "\t\t\t\tsrc='/images/backgrounds/mars.jpg', sizingMethod='scale');\n",
      "\t\t\">\n",
      "  </div>\n",
      "  <script type=\"text/javascript\">\n",
      "   var baseUrl = \"\";\n",
      "\n",
      "/*\n",
      "var _gaq = _gaq || [];_gaq.push(['_setAccount', 'UA-27613186-1']);_gaq.push(['_trackPageview']);(function() { var ga = document.createElement('script'); ga.type = 'text/javascript'; ga.async = true;ga.src = ('https:' == document.location.protocol ? 'https://ssl' : 'http://www') + '.google-analytics.com/ga.js'; var s = document.getElementsByTagName('script')[0]; s.parentNode.insertBefore(ga, s);})();\n",
      "*/\n",
      "  </script>\n",
      "  <script src=\"https://ajax.googleapis.com/ajax/libs/jquery/1.11.1/jquery.min.js\" type=\"text/javascript\">\n",
      "  </script>\n",
      "  <script src=\"//ajax.googleapis.com/ajax/libs/jqueryui/1.11.3/jquery-ui.min.js\" type=\"text/javascript\">\n",
      "  </script>\n",
      "  <script src=\"/js/general.js\" type=\"text/javascript\">\n",
      "  </script>\n",
      " </body>\n",
      "</html>\n"
     ]
    }
   ],
   "source": [
    "print(hem_soup.prettify())"
   ]
  },
  {
   "cell_type": "markdown",
   "metadata": {},
   "source": [
    "    Browsing through the webpage to extract the hemisphere titles and the urls of the full images. The results defined as dictionaries are appended to the main list - hemisphere_image_urls"
   ]
  },
  {
   "cell_type": "code",
   "execution_count": 15,
   "metadata": {},
   "outputs": [
    {
     "name": "stdout",
     "output_type": "stream",
     "text": [
      "[{'title': 'Cerberus Hemisphere Enhanced', 'img_url': 'https://astrogeology.usgs.gov//cache/images/cfa62af2557222a02478f1fcd781d445_cerberus_enhanced.tif_full.jpg'}, {'title': 'Schiaparelli Hemisphere Enhanced', 'img_url': 'https://astrogeology.usgs.gov//cache/images/3cdd1cbf5e0813bba925c9030d13b62e_schiaparelli_enhanced.tif_full.jpg'}, {'title': 'Syrtis Major Hemisphere Enhanced', 'img_url': 'https://astrogeology.usgs.gov//cache/images/ae209b4e408bb6c3e67b6af38168cf28_syrtis_major_enhanced.tif_full.jpg'}, {'title': 'Valles Marineris Hemisphere Enhanced', 'img_url': 'https://astrogeology.usgs.gov//cache/images/7cf2da4bf549ed01c17f206327be4db7_valles_marineris_enhanced.tif_full.jpg'}]\n"
     ]
    }
   ],
   "source": [
    "for item in range (4):\n",
    "    time.sleep(5)\n",
    "    \n",
    "    #Clicking the title to get to the original hires image (.tif)\n",
    "    img = browser.find_by_tag('h3')[item].click()\n",
    "    \n",
    "    #Calling BeautifulSoup\n",
    "    html = browser.html\n",
    "    soup = BeautifulSoup(html, 'html.parser')\n",
    "    \n",
    "     # Finding the hemisphere image titles   \n",
    "    title = soup.find('h2', class_='title').text\n",
    "    \n",
    "    #Finding the hemisphere full image url\n",
    "    src = soup.find(\"img\", class_=\"wide-image\")[\"src\"]\n",
    "    img_url = base_url + src\n",
    "    \n",
    "    #Creating the dictionary where I'm storing the variables\n",
    "    hemisphere={\"title\":title,\"img_url\":img_url}\n",
    "    \n",
    "    #Appending dictionary to main list - hemisphere_image_url\n",
    "    hemisphere_image_urls.append(hemisphere)\n",
    "    \n",
    "    browser.back()\n",
    "    \n",
    "print(hemisphere_image_urls)"
   ]
  },
  {
   "cell_type": "code",
   "execution_count": null,
   "metadata": {},
   "outputs": [],
   "source": []
  }
 ],
 "metadata": {
  "kernelspec": {
   "display_name": "Python 3",
   "language": "python",
   "name": "python3"
  },
  "language_info": {
   "codemirror_mode": {
    "name": "ipython",
    "version": 3
   },
   "file_extension": ".py",
   "mimetype": "text/x-python",
   "name": "python",
   "nbconvert_exporter": "python",
   "pygments_lexer": "ipython3",
   "version": "3.7.4"
  }
 },
 "nbformat": 4,
 "nbformat_minor": 2
}
